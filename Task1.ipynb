{
 "cells": [
  {
   "cell_type": "markdown",
   "id": "4bedf679",
   "metadata": {},
   "source": [
    "<h1 style=\"font-size:3rem;color:orange;\">Predection using supervised ML<h1>"
   ]
  },
  {
   "cell_type": "markdown",
   "id": "afaac0fc",
   "metadata": {},
   "source": [
    "# Importing all libraries required "
   ]
  },
  {
   "cell_type": "code",
   "execution_count": 609,
   "id": "2d8ba611",
   "metadata": {},
   "outputs": [
    {
     "name": "stdout",
     "output_type": "stream",
     "text": [
      "Modules imported successfully \n"
     ]
    }
   ],
   "source": [
    "import pandas as pd\n",
    "import matplotlib.pyplot as plt\n",
    "import numpy as np\n",
    "print(\"Modules imported successfully \")\n"
   ]
  },
  {
   "cell_type": "markdown",
   "id": "96fa6302",
   "metadata": {},
   "source": [
    "#  Importing the data from CSV file"
   ]
  },
  {
   "cell_type": "code",
   "execution_count": 610,
   "id": "1ff63943",
   "metadata": {},
   "outputs": [
    {
     "name": "stdout",
     "output_type": "stream",
     "text": [
      "Data imported successfully \n"
     ]
    },
    {
     "data": {
      "text/html": [
       "<div>\n",
       "<style scoped>\n",
       "    .dataframe tbody tr th:only-of-type {\n",
       "        vertical-align: middle;\n",
       "    }\n",
       "\n",
       "    .dataframe tbody tr th {\n",
       "        vertical-align: top;\n",
       "    }\n",
       "\n",
       "    .dataframe thead th {\n",
       "        text-align: right;\n",
       "    }\n",
       "</style>\n",
       "<table border=\"1\" class=\"dataframe\">\n",
       "  <thead>\n",
       "    <tr style=\"text-align: right;\">\n",
       "      <th></th>\n",
       "      <th>Hours</th>\n",
       "      <th>Scores</th>\n",
       "    </tr>\n",
       "  </thead>\n",
       "  <tbody>\n",
       "    <tr>\n",
       "      <th>0</th>\n",
       "      <td>2.5</td>\n",
       "      <td>21</td>\n",
       "    </tr>\n",
       "    <tr>\n",
       "      <th>1</th>\n",
       "      <td>5.1</td>\n",
       "      <td>47</td>\n",
       "    </tr>\n",
       "    <tr>\n",
       "      <th>2</th>\n",
       "      <td>3.2</td>\n",
       "      <td>27</td>\n",
       "    </tr>\n",
       "    <tr>\n",
       "      <th>3</th>\n",
       "      <td>8.5</td>\n",
       "      <td>75</td>\n",
       "    </tr>\n",
       "    <tr>\n",
       "      <th>4</th>\n",
       "      <td>3.5</td>\n",
       "      <td>30</td>\n",
       "    </tr>\n",
       "  </tbody>\n",
       "</table>\n",
       "</div>"
      ],
      "text/plain": [
       "   Hours  Scores\n",
       "0    2.5      21\n",
       "1    5.1      47\n",
       "2    3.2      27\n",
       "3    8.5      75\n",
       "4    3.5      30"
      ]
     },
     "execution_count": 610,
     "metadata": {},
     "output_type": "execute_result"
    }
   ],
   "source": [
    "url = \"http://bit.ly/w-data\"\n",
    "dataset = pd.read_csv(url)\n",
    "print(\"Data imported successfully \")\n",
    "dataset.head()"
   ]
  },
  {
   "cell_type": "markdown",
   "id": "c7507fcf",
   "metadata": {},
   "source": [
    "# Exporing the dataset"
   ]
  },
  {
   "cell_type": "code",
   "execution_count": 611,
   "id": "a7bb6519",
   "metadata": {},
   "outputs": [
    {
     "name": "stdout",
     "output_type": "stream",
     "text": [
      "<class 'pandas.core.frame.DataFrame'>\n",
      "RangeIndex: 25 entries, 0 to 24\n",
      "Data columns (total 2 columns):\n",
      " #   Column  Non-Null Count  Dtype  \n",
      "---  ------  --------------  -----  \n",
      " 0   Hours   25 non-null     float64\n",
      " 1   Scores  25 non-null     int64  \n",
      "dtypes: float64(1), int64(1)\n",
      "memory usage: 528.0 bytes\n"
     ]
    }
   ],
   "source": [
    "dataset.info()"
   ]
  },
  {
   "cell_type": "code",
   "execution_count": 612,
   "id": "a74dacae",
   "metadata": {},
   "outputs": [
    {
     "data": {
      "text/html": [
       "<div>\n",
       "<style scoped>\n",
       "    .dataframe tbody tr th:only-of-type {\n",
       "        vertical-align: middle;\n",
       "    }\n",
       "\n",
       "    .dataframe tbody tr th {\n",
       "        vertical-align: top;\n",
       "    }\n",
       "\n",
       "    .dataframe thead th {\n",
       "        text-align: right;\n",
       "    }\n",
       "</style>\n",
       "<table border=\"1\" class=\"dataframe\">\n",
       "  <thead>\n",
       "    <tr style=\"text-align: right;\">\n",
       "      <th></th>\n",
       "      <th>Hours</th>\n",
       "      <th>Scores</th>\n",
       "    </tr>\n",
       "  </thead>\n",
       "  <tbody>\n",
       "    <tr>\n",
       "      <th>count</th>\n",
       "      <td>25.000000</td>\n",
       "      <td>25.000000</td>\n",
       "    </tr>\n",
       "    <tr>\n",
       "      <th>mean</th>\n",
       "      <td>5.012000</td>\n",
       "      <td>51.480000</td>\n",
       "    </tr>\n",
       "    <tr>\n",
       "      <th>std</th>\n",
       "      <td>2.525094</td>\n",
       "      <td>25.286887</td>\n",
       "    </tr>\n",
       "    <tr>\n",
       "      <th>min</th>\n",
       "      <td>1.100000</td>\n",
       "      <td>17.000000</td>\n",
       "    </tr>\n",
       "    <tr>\n",
       "      <th>25%</th>\n",
       "      <td>2.700000</td>\n",
       "      <td>30.000000</td>\n",
       "    </tr>\n",
       "    <tr>\n",
       "      <th>50%</th>\n",
       "      <td>4.800000</td>\n",
       "      <td>47.000000</td>\n",
       "    </tr>\n",
       "    <tr>\n",
       "      <th>75%</th>\n",
       "      <td>7.400000</td>\n",
       "      <td>75.000000</td>\n",
       "    </tr>\n",
       "    <tr>\n",
       "      <th>max</th>\n",
       "      <td>9.200000</td>\n",
       "      <td>95.000000</td>\n",
       "    </tr>\n",
       "  </tbody>\n",
       "</table>\n",
       "</div>"
      ],
      "text/plain": [
       "           Hours     Scores\n",
       "count  25.000000  25.000000\n",
       "mean    5.012000  51.480000\n",
       "std     2.525094  25.286887\n",
       "min     1.100000  17.000000\n",
       "25%     2.700000  30.000000\n",
       "50%     4.800000  47.000000\n",
       "75%     7.400000  75.000000\n",
       "max     9.200000  95.000000"
      ]
     },
     "execution_count": 612,
     "metadata": {},
     "output_type": "execute_result"
    }
   ],
   "source": [
    "dataset.describe()"
   ]
  },
  {
   "cell_type": "code",
   "execution_count": 613,
   "id": "de1b962f",
   "metadata": {},
   "outputs": [
    {
     "data": {
      "text/plain": [
       "(25, 2)"
      ]
     },
     "execution_count": 613,
     "metadata": {},
     "output_type": "execute_result"
    }
   ],
   "source": [
    "dataset.shape"
   ]
  },
  {
   "cell_type": "code",
   "execution_count": 614,
   "id": "6682c91a",
   "metadata": {},
   "outputs": [
    {
     "name": "stdout",
     "output_type": "stream",
     "text": [
      "Number of dublicate rows : 0\n"
     ]
    }
   ],
   "source": [
    "print(\"Number of dublicate rows :\" ,dataset.duplicated().sum())"
   ]
  },
  {
   "cell_type": "markdown",
   "id": "046e363d",
   "metadata": {},
   "source": [
    "# Plotting data points on 2D graph"
   ]
  },
  {
   "cell_type": "code",
   "execution_count": 615,
   "id": "069e4973",
   "metadata": {},
   "outputs": [
    {
     "data": {
      "image/png": "[encoded data removed]",
      "text/plain": [
       "<Figure size 432x288 with 1 Axes>"
      ]
     },
     "metadata": {
      "needs_background": "light"
     },
     "output_type": "display_data"
    }
   ],
   "source": [
    "dataset.plot(x='Hours',y='Scores',style= '.')\n",
    "plt.title('Hours VS Scores')\n",
    "plt.xlabel('Hours studeis')\n",
    "plt.ylabel('Percentage Score')\n",
    "plt.show()\n"
   ]
  },
  {
   "cell_type": "markdown",
   "id": "f31326ae",
   "metadata": {},
   "source": [
    "# preparing the data"
   ]
  },
  {
   "cell_type": "code",
   "execution_count": 616,
   "id": "576fedd4",
   "metadata": {},
   "outputs": [
    {
     "name": "stdout",
     "output_type": "stream",
     "text": [
      "shape of x :  (25, 1)\n",
      "shape of y:  (25,)\n"
     ]
    }
   ],
   "source": [
    "X = dataset[\"Hours\"].values.reshape(-1, 1)\n",
    "y = dataset[\"Scores\"].values\n",
    "print(\"shape of x : \", X.shape)\n",
    "print(\"shape of y: \", y.shape)\n",
    "\n"
   ]
  },
  {
   "cell_type": "markdown",
   "id": "01191748",
   "metadata": {},
   "source": [
    "# Split the data into training data and test data sets using Scikit-Learn's train_test_split() method:"
   ]
  },
  {
   "cell_type": "code",
   "execution_count": 617,
   "id": "c97e43ef",
   "metadata": {},
   "outputs": [
    {
     "name": "stdout",
     "output_type": "stream",
     "text": [
      "Splitting the data into training and testing sets is done \n"
     ]
    }
   ],
   "source": [
    "from sklearn.model_selection import train_test_split\n",
    "X_train, X_test, y_train, y_test = train_test_split(X, y, test_size=0.2, random_state=42)\n",
    "print(\"Splitting the data into training and testing sets is done \")"
   ]
  },
  {
   "cell_type": "markdown",
   "id": "735d9f8a",
   "metadata": {},
   "source": [
    "# Applying Linear regression model using Scikit-Learn"
   ]
  },
  {
   "cell_type": "code",
   "execution_count": 618,
   "id": "79ec2275",
   "metadata": {},
   "outputs": [
    {
     "name": "stdout",
     "output_type": "stream",
     "text": [
      "Fitting the linear regression model is done \n"
     ]
    }
   ],
   "source": [
    "from sklearn.linear_model import LinearRegression\n",
    "reg = LinearRegression()\n",
    "reg.fit(X_train, y_train)\n",
    "y_pred = reg.predict(X_test).reshape(-1,1)\n",
    "print(\"Fitting the linear regression model is done \")"
   ]
  },
  {
   "cell_type": "markdown",
   "id": "c629a7f3",
   "metadata": {},
   "source": [
    "# Calculating R-Squared and the square root of the mean squared error : RMSE"
   ]
  },
  {
   "cell_type": "code",
   "execution_count": 619,
   "id": "ca41c4ab",
   "metadata": {},
   "outputs": [
    {
     "name": "stdout",
     "output_type": "stream",
     "text": [
      "R-Squared =  0.9678055545167994\n",
      "RMSE =  4.352380006653288\n",
      "Mean Absolute error : 3.9207511902099244\n"
     ]
    }
   ],
   "source": [
    "from sklearn.metrics import mean_squared_error,mean_absolute_error\n",
    "r_squared = reg.score(X_test, y_test) \n",
    "print(\"R-Squared = \",r_squared )\n",
    "print(\"RMSE = \", mean_squared_error(y_test, y_pred, squared=False))\n",
    "print(\"Mean Absolute error :\" ,mean_absolute_error(y_test, y_pred) )\n"
   ]
  },
  {
   "cell_type": "markdown",
   "id": "b1c6e1e9",
   "metadata": {},
   "source": [
    "# Applying cross validation using scikit-learn to evaluate the models performance"
   ]
  },
  {
   "cell_type": "code",
   "execution_count": 620,
   "id": "b5393019",
   "metadata": {},
   "outputs": [
    {
     "name": "stdout",
     "output_type": "stream",
     "text": [
      "cross validation is done \n",
      "R-Squared from the cross validation : 0.9351805772795736\n",
      "Standard deviation is : 0.02100706287446326\n",
      "the 95% confidence interval :  [0.90305062 0.95454346]\n"
     ]
    }
   ],
   "source": [
    "from sklearn.model_selection import cross_val_score,KFold\n",
    "\n",
    "kf = KFold(n_splits=4, shuffle=True, random_state=42)\n",
    "cv_results = cross_val_score(reg, X, y, cv=kf)\n",
    "mean_r_squared =  np.mean(cv_results)\n",
    "print(\"cross validation is done \")\n",
    "print(\"R-Squared from the cross validation :\", mean_r_squared)\n",
    "print(\"Standard deviation is :\", np.std(cv_results))\n",
    "print(\"the 95% confidence interval : \", np.quantile(cv_results,[0.025,0.975]))"
   ]
  },
  {
   "cell_type": "markdown",
   "id": "db5e94a5",
   "metadata": {},
   "source": [
    "# Model performance "
   ]
  },
  {
   "cell_type": "code",
   "execution_count": 621,
   "id": "06450d6e",
   "metadata": {},
   "outputs": [
    {
     "name": "stdout",
     "output_type": "stream",
     "text": [
      "Model Performance is equal to : 95.14930658981865 %\n"
     ]
    }
   ],
   "source": [
    "print(\"Model Performance is equal to :\", abs(r_squared+mean_r_squared)/2*100 , \"%\")"
   ]
  },
  {
   "cell_type": "code",
   "execution_count": 622,
   "id": "e1b17893",
   "metadata": {},
   "outputs": [],
   "source": [
    "# Regression Line equation \n",
    "line_equation = reg.coef_ * X + reg.intercept_"
   ]
  },
  {
   "cell_type": "markdown",
   "id": "f06950c3",
   "metadata": {},
   "source": [
    "# Plotting the regression line"
   ]
  },
  {
   "cell_type": "code",
   "execution_count": 623,
   "id": "8050c0d8",
   "metadata": {},
   "outputs": [
    {
     "data": {
      "image/png": "[encoded data removed]",
      "text/plain": [
       "<Figure size 432x288 with 1 Axes>"
      ]
     },
     "metadata": {
      "needs_background": "light"
     },
     "output_type": "display_data"
    }
   ],
   "source": [
    "plt.figure()\n",
    "plt.scatter(X,y)\n",
    "plt.title(\"Linear regression line of Hours vs Scores percentage \")\n",
    "plt.xlabel(\"Hours\")\n",
    "plt.ylabel(\"Scores percentage\")\n",
    "plt.plot(X, line_equation)\n",
    "plt.show()"
   ]
  },
  {
   "cell_type": "markdown",
   "id": "02cf9b32",
   "metadata": {},
   "source": [
    "# What will be predicted score if a student studies 9.25 hour/day?"
   ]
  },
  {
   "cell_type": "code",
   "execution_count": 624,
   "id": "c34c8488",
   "metadata": {},
   "outputs": [
    {
     "name": "stdout",
     "output_type": "stream",
     "text": [
      "Score percentage may be :  92.38611528261494 %\n"
     ]
    }
   ],
   "source": [
    "hours = 9.25\n",
    "predict_score = reg.predict([[hours]])\n",
    "print(\"Score percentage may be : \", predict_score[0], \"%\")"
   ]
  }
 ],
 "metadata": {
  "kernelspec": {
   "display_name": "Python 3 (ipykernel)",
   "language": "python",
   "name": "python3"
  },
  "language_info": {
   "codemirror_mode": {
    "name": "ipython",
    "version": 3
   },
   "file_extension": ".py",
   "mimetype": "text/x-python",
   "name": "python",
   "nbconvert_exporter": "python",
   "pygments_lexer": "ipython3",
   "version": "3.9.12"
  }
 },
 "nbformat": 4,
 "nbformat_minor": 5
}
